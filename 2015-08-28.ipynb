{
 "cells": [
  {
   "cell_type": "markdown",
   "metadata": {},
   "source": [
    "# Toy program to convert Fahrenheit to Celsius"
   ]
  },
  {
   "cell_type": "code",
   "execution_count": 1,
   "metadata": {
    "collapsed": false
   },
   "outputs": [
    {
     "name": "stdout",
     "output_type": "stream",
     "text": [
      "Hello!!!!\n"
     ]
    }
   ],
   "source": [
    "print(\"Hello!!!!\")"
   ]
  },
  {
   "cell_type": "code",
   "execution_count": 12,
   "metadata": {
    "collapsed": true
   },
   "outputs": [],
   "source": [
    "table = {\n",
    "    86: 30,\n",
    "    79: 25,\n",
    "    68: 20\n",
    "}"
   ]
  },
  {
   "cell_type": "code",
   "execution_count": 10,
   "metadata": {
    "collapsed": false
   },
   "outputs": [
    {
     "name": "stdout",
     "output_type": "stream",
     "text": [
      "Convert from Fahrenheit to Celsius!\n",
      "Temperature in F? 33\n",
      "It's 33 F and  0.6 C!\n"
     ]
    }
   ],
   "source": [
    "def convert(f):\n",
    "    return(f - 32)/1.8\n",
    "\n",
    "print(\"Convert from Fahrenheit to Celsius!\")\n",
    "fahrenheit = input(\"Temperature in F? \")\n",
    "celsius = convert(float(fahrenheit))\n",
    "print(\"It's\", fahrenheit, \"F and \", round(celsius,1),\"C!\")"
   ]
  },
  {
   "cell_type": "code",
   "execution_count": 17,
   "metadata": {
    "collapsed": false
   },
   "outputs": [
    {
     "name": "stdout",
     "output_type": "stream",
     "text": [
      "Some pro tips:\n",
      "68 F is  20 C\n",
      "86 F is  30 C\n",
      "79 F is  25 C\n"
     ]
    }
   ],
   "source": [
    "print(\"Some pro tips:\")\n",
    "for temp_f, temp_c in table.items():\n",
    "    print(temp_f,\"in F is \", temp_c, \"C\")"
   ]
  },
  {
   "cell_type": "markdown",
   "metadata": {},
   "source": [
    "Python dictionary keys have to be immutable they must be hashable"
   ]
  },
  {
   "cell_type": "code",
   "execution_count": 18,
   "metadata": {
    "collapsed": false
   },
   "outputs": [
    {
     "name": "stdout",
     "output_type": "stream",
     "text": [
      "Average time!\n",
      "Average is: 77.66666666666667\n"
     ]
    }
   ],
   "source": [
    "print(\"Average Temp!\")\n",
    "total = 0\n",
    "num_items = len(table)\n",
    "for temp_f in table:\n",
    "    total = total + temp_f\n",
    "print(\"Average is:\", total/ num_items)"
   ]
  },
  {
   "cell_type": "code",
   "execution_count": 29,
   "metadata": {
    "collapsed": false
   },
   "outputs": [
    {
     "name": "stdout",
     "output_type": "stream",
     "text": [
      "Average temp in Fahrenheit: 77.66666666666667\n",
      "Average temp in Celsius: 25.0\n"
     ]
    }
   ],
   "source": [
    "print(\"Average temp in Fahrenheit:\", \n",
    "      sum(table.keys())/num_items)\n",
    "print(\"Average temp in Celsius:\", \n",
    "      sum(table.values())/num_items)"
   ]
  },
  {
   "cell_type": "code",
   "execution_count": null,
   "metadata": {
    "collapsed": true
   },
   "outputs": [],
   "source": []
  }
 ],
 "metadata": {
  "kernelspec": {
   "display_name": "Python 3",
   "language": "python",
   "name": "python3"
  },
  "language_info": {
   "codemirror_mode": {
    "name": "ipython",
    "version": 3
   },
   "file_extension": ".py",
   "mimetype": "text/x-python",
   "name": "python",
   "nbconvert_exporter": "python",
   "pygments_lexer": "ipython3",
   "version": "3.3.5"
  }
 },
 "nbformat": 4,
 "nbformat_minor": 0
}
