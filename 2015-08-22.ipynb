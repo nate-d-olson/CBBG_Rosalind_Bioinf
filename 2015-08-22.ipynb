{
 "cells": [
  {
   "cell_type": "markdown",
   "metadata": {},
   "source": [
    "## Notes from Python Lab\n",
    "Options for the class\n",
    "* Book chapter - learn python the hard way\n",
    "* Work on a project - finding an interesting problem for the group to work on\n",
    "    * project selected - palindrome finder, finding palindromes in statements\n",
    "    * ignores punctuation, capitalization, and spacing\n",
    "* Python dojo - Tuesday 8/25, https://ti.to/dc-python-dojo/august-2015/en"
   ]
  },
  {
   "cell_type": "markdown",
   "metadata": {},
   "source": [
    "### Data to test functions"
   ]
  },
  {
   "cell_type": "code",
   "execution_count": 106,
   "metadata": {
    "collapsed": true
   },
   "outputs": [],
   "source": [
    "test_palindromes = [\n",
    "    \"Go hang a salami I'm a lasagna hog.\",\n",
    "    \"Was it a rat I saw?\",\n",
    "    \"Step on no pets\",\n",
    "    \"Sit on a potato pan, Otis\",\n",
    "    \"Lisa Bonet ate no basil\",\n",
    "    \"Satan, oscillate my metallic sonatas.\",\n",
    "    \"I roamed under it as a tired nude Maori\",\n",
    "    \"Rise to vote sir\",\n",
    "    \"Dammit, I'm mad!\",\n",
    "    ## Not palindromes\n",
    "    \"Rools-Royce is a cool type of car.\",\n",
    "    \"It's a beautiful day today.\",\n",
    "    \"A Lamborghini is nicer that a Rolls, says Q\"\n",
    "]"
   ]
  },
  {
   "cell_type": "markdown",
   "metadata": {},
   "source": [
    "## Palindrome checker function"
   ]
  },
  {
   "cell_type": "code",
   "execution_count": 104,
   "metadata": {
    "collapsed": false
   },
   "outputs": [],
   "source": [
    "import string\n",
    "def is_palindrome(phrase):\n",
    "    '''\n",
    "    Approach convert the phrase to lower case\n",
    "    Remove punctuation\n",
    "    determine length for mid point\n",
    "    Use stack to check\n",
    "    '''\n",
    "    ## Lower case\n",
    "    phrase = phrase.lower()\n",
    "    \n",
    "    ## Remove punctuation\n",
    "    phrase = phrase.translate(string.maketrans(\"\",\"\"), \n",
    "                              string.punctuation)\n",
    "    phrase = phrase.replace(\" \", \"\")\n",
    "    \n",
    "    if phrase == phrase[::-1]:\n",
    "        return True\n",
    "    else:\n",
    "        return False"
   ]
  },
  {
   "cell_type": "code",
   "execution_count": 105,
   "metadata": {
    "collapsed": false
   },
   "outputs": [
    {
     "name": "stdout",
     "output_type": "stream",
     "text": [
      "Is this a palindrome? Go hang a salami I'm a lasagna hog. True\n",
      "Is this a palindrome? Was it a rat I saw? True\n",
      "Is this a palindrome? Step on no pets True\n",
      "Is this a palindrome? Sit on a potato pan, Otis True\n",
      "Is this a palindrome? Lisa Bonet ate no basil True\n",
      "Is this a palindrome? Satan, oscillate my metallic sonatas. True\n",
      "Is this a palindrome? I roamed under it as a tired nude Maori True\n",
      "Is this a palindrome? Rise to vote sir True\n",
      "Is this a palindrome? Dammit, I'm mad! True\n",
      "Is this a palindrome? Rools-Royce is a cool type of car. False\n",
      "Is this a palindrome? It's a beautiful day today. False\n",
      "Is this a palindrome? A Lamborghini is nicer that a Rolls, says Q False\n"
     ]
    }
   ],
   "source": [
    "from __future__ import print_function\n",
    "## running test\n",
    "for phrase in test_palindromes:\n",
    "    print(\"Is this a palindrome?\", phrase, is_palindrome(phrase))"
   ]
  },
  {
   "cell_type": "code",
   "execution_count": 111,
   "metadata": {
    "collapsed": false
   },
   "outputs": [
    {
     "name": "stdout",
     "output_type": "stream",
     "text": [
      "!\"#$%&'()*+,-./:;<=>?@[\\]^_`{|}~\n",
      "Make Tans <type 'str'>\n",
      "Example \n"
     ]
    }
   ],
   "source": [
    "phrase = \"Example !!##%%?\"\n",
    "print(string.punctuation)\n",
    "print(\"Make Tans\", type(string.maketrans(\"\",\"\")))\n",
    "phrase = phrase.translate(None,string.punctuation)\n",
    "print(phrase)"
   ]
  },
  {
   "cell_type": "code",
   "execution_count": null,
   "metadata": {
    "collapsed": true
   },
   "outputs": [],
   "source": []
  }
 ],
 "metadata": {
  "kernelspec": {
   "display_name": "Python 2",
   "language": "python",
   "name": "python2"
  },
  "language_info": {
   "codemirror_mode": {
    "name": "ipython",
    "version": 2
   },
   "file_extension": ".py",
   "mimetype": "text/x-python",
   "name": "python",
   "nbconvert_exporter": "python",
   "pygments_lexer": "ipython2",
   "version": "2.7.10"
  }
 },
 "nbformat": 4,
 "nbformat_minor": 0
}
